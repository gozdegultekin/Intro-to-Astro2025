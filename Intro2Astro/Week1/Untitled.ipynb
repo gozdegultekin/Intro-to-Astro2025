{
 "cells": [
  {
   "cell_type": "code",
   "execution_count": 1,
   "id": "dbf5a3f9",
   "metadata": {},
   "outputs": [],
   "source": [
    "import sys"
   ]
  },
  {
   "cell_type": "code",
   "execution_count": 2,
   "id": "a2a65bc4",
   "metadata": {},
   "outputs": [
    {
     "name": "stdout",
     "output_type": "stream",
     "text": [
      "3.12.3 | packaged by conda-forge | (main, Apr 15 2024, 18:20:11) [MSC v.1938 64 bit (AMD64)]\n"
     ]
    }
   ],
   "source": [
    "print(sys.version)"
   ]
  },
  {
   "cell_type": "code",
   "execution_count": 5,
   "id": "d084759e",
   "metadata": {},
   "outputs": [],
   "source": [
    "import pandas as pd"
   ]
  },
  {
   "cell_type": "code",
   "execution_count": 2,
   "id": "27088fd3",
   "metadata": {},
   "outputs": [],
   "source": [
    "# Mevcut sürücümüzü görebiliriz:\n",
    "    "
   ]
  },
  {
   "cell_type": "code",
   "execution_count": 1,
   "id": "93a0ad2d",
   "metadata": {},
   "outputs": [
    {
     "name": "stdout",
     "output_type": "stream",
     "text": [
      " Volume in drive C is Windows\n",
      " Volume Serial Number is D87D-23AE\n",
      "\n",
      " Directory of C:\\Users\\HP\\Documents\\Intro2Astro\\1.Hafta\n",
      "\n",
      "01.07.2025  21:18    <DIR>          .\n",
      "01.07.2025  20:27    <DIR>          ..\n",
      "01.07.2025  20:36    <DIR>          .ipynb_checkpoints\n",
      "01.07.2025  21:18             2.000 Untitled.ipynb\n",
      "               1 File(s)          2.000 bytes\n",
      "               3 Dir(s)  191.661.436.928 bytes free\n"
     ]
    }
   ],
   "source": [
    "ls"
   ]
  },
  {
   "cell_type": "code",
   "execution_count": null,
   "id": "68d4c0f0",
   "metadata": {},
   "outputs": [],
   "source": []
  }
 ],
 "metadata": {
  "kernelspec": {
   "display_name": "Python 3 (ipykernel)",
   "language": "python",
   "name": "python3"
  },
  "language_info": {
   "codemirror_mode": {
    "name": "ipython",
    "version": 3
   },
   "file_extension": ".py",
   "mimetype": "text/x-python",
   "name": "python",
   "nbconvert_exporter": "python",
   "pygments_lexer": "ipython3",
   "version": "3.12.3"
  }
 },
 "nbformat": 4,
 "nbformat_minor": 5
}
